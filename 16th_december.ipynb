{
  "nbformat": 4,
  "nbformat_minor": 0,
  "metadata": {
    "colab": {
      "provenance": [],
      "authorship_tag": "ABX9TyNMg7OpbrC+cihnnClGgcEG",
      "include_colab_link": true
    },
    "kernelspec": {
      "name": "python3",
      "display_name": "Python 3"
    },
    "language_info": {
      "name": "python"
    }
  },
  "cells": [
    {
      "cell_type": "markdown",
      "metadata": {
        "id": "view-in-github",
        "colab_type": "text"
      },
      "source": [
        "<a href=\"https://colab.research.google.com/github/Moneycodin/Moneycodin.github.io/blob/main/16th_december.ipynb\" target=\"_parent\"><img src=\"https://colab.research.google.com/assets/colab-badge.svg\" alt=\"Open In Colab\"/></a>"
      ]
    },
    {
      "cell_type": "code",
      "execution_count": null,
      "metadata": {
        "id": "0p_AtALz_wAu"
      },
      "outputs": [],
      "source": [
        "#define the listnode\n",
        "class Node:\n",
        "  def __init__(self, data=None, next=None):\n",
        "    self.data=data\n",
        "    self.next=next\n",
        "\n",
        "    #method to set the data value\n",
        "    def setData(self,data):\n",
        "      self.data=data\n",
        "\n",
        "    #method to get the data value\n",
        "    def getData(self):\n",
        "      return self.data\n",
        "\n",
        "    #method to set the next\n",
        "    def setNext(self, next):\n",
        "      self.next=next\n",
        "\n",
        "    #method to get the next\n",
        "\n"
      ]
    },
    {
      "cell_type": "code",
      "execution_count": null,
      "metadata": {
        "id": "tQrC-buCqoI7"
      },
      "outputs": [],
      "source": [
        "#Define the ListNode\n",
        "\n",
        "class Node :\n",
        "\n",
        "  def __init__(self,data=None, next=None):\n",
        "    self.data = data\n",
        "    self.next = next\n",
        "\n",
        "  #Method to set the data value\n",
        "  def setData(self,data):\n",
        "    self.data = data\n",
        "\n",
        "  #method to get the data value\n",
        "  def getData(self):\n",
        "    return self.data\n",
        "\n",
        "  #Method of set the next\n",
        "  def setNext(self, next):\n",
        "    self.next = next\n",
        "\n",
        "  #Method to get the next\n",
        "  def getNext(self):\n",
        "    return self.next"
      ]
    }
  ]
}